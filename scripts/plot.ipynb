{
 "cells": [
  {
   "cell_type": "code",
   "execution_count": 51,
   "metadata": {},
   "outputs": [],
   "source": [
    "import matplotlib.pyplot as plt\n",
    "import numpy as np\n",
    "\n",
    "input_range = range(23,31)\n",
    "n=len(input_range)\n",
    "dataList = np.empty([3,n])\n",
    "for id in input_range:\n",
    "    with open(\"../mNETseq/STARout/\"+str(id)+\"Log.final.out\",'r') as f:\n",
    "        lines = f.readlines()\n",
    "        for i,l in enumerate(lines):\n",
    "            if i == 5:\n",
    "                dataList[0,id-23] = int(l.split(\"|\")[1].strip())\n",
    "            elif i == 8:\n",
    "                dataList[1,id-23] = int(l.split(\"|\")[1].strip())\n",
    "            elif i == 23:\n",
    "                dataList[2,id-23] = int(l.split(\"|\")[1].strip())"
   ]
  },
  {
   "cell_type": "code",
   "execution_count": 91,
   "metadata": {},
   "outputs": [
    {
     "data": {
      "image/png": "[encoded data removed]",
      "text/plain": [
       "<Figure size 432x288 with 1 Axes>"
      ]
     },
     "metadata": {
      "needs_background": "light"
     },
     "output_type": "display_data"
    }
   ],
   "source": [
    "species = (\n",
    "    [str(i) for i in input_range]\n",
    ")\n",
    "weight_counts = {\n",
    "    \"Unimap\": dataList[1,...],\n",
    "    \"Multimap\": dataList[2,...],\n",
    "    \"Unmap\": dataList[0,...]-dataList[1,...]-dataList[2,...]\n",
    "}\n",
    "weight_percents = {\n",
    "    \"Unimap\": dataList[1,...]/dataList[0,...],\n",
    "    \"Multimap\": dataList[2,...]/dataList[0,...],\n",
    "    \"Unmap\": (dataList[0,...]-dataList[1,...]-dataList[2,...])/dataList[0,...]\n",
    "}\n",
    "width = 0.7\n",
    "\n",
    "fig, ax = plt.subplots()\n",
    "bottom = np.zeros(n)\n",
    "\n",
    "# for boolean, weight_count in weight_counts.items():\n",
    "#     p = ax.bar(species, weight_count, width, label=boolean, bottom=bottom)\n",
    "#     # ax.text(species, weight_percent)\n",
    "#     bottom += weight_count\n",
    "\n",
    "\n",
    "# ax.set_title(\"Data qualitys\")\n",
    "# ax.legend(loc=\"upper right\")\n",
    "# plt.show()\n",
    "\n",
    "for label, weight_count in weight_counts.items():\n",
    "    p = ax.bar(species, weight_count, width, label=label, bottom=bottom)\n",
    "    for rect in p:\n",
    "        index = rect.get_x() + rect.get_width() / 2\n",
    "        category_index = int(index)\n",
    "        height = bottom[category_index]\n",
    "        percentage = weight_percents[label][category_index] * 100\n",
    "        ax.text(index, height, f'{percentage:.1f}%', ha='center', va='bottom')\n",
    "    bottom += weight_count\n",
    "\n",
    "ax.set_title(\"Data qualitys\")\n",
    "ax.legend(loc=\"upper right\")\n",
    "plt.show()"
   ]
  }
 ],
 "metadata": {
  "kernelspec": {
   "display_name": "env1",
   "language": "python",
   "name": "python3"
  },
  "language_info": {
   "codemirror_mode": {
    "name": "ipython",
    "version": 3
   },
   "file_extension": ".py",
   "mimetype": "text/x-python",
   "name": "python",
   "nbconvert_exporter": "python",
   "pygments_lexer": "ipython3",
   "version": "3.10.4"
  },
  "orig_nbformat": 4
 },
 "nbformat": 4,
 "nbformat_minor": 2
}
